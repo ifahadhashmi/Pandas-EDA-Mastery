{
 "cells": [
  {
   "cell_type": "markdown",
   "id": "dd6f48b7",
   "metadata": {},
   "source": [
    "# Automatic EDA using `ydata_profiling`"
   ]
  },
  {
   "cell_type": "code",
   "execution_count": 2,
   "id": "0a96326e",
   "metadata": {},
   "outputs": [
    {
     "name": "stderr",
     "output_type": "stream",
     "text": [
      "c:\\Users\\FAHAD\\miniconda3\\envs\\ydata_profiling\\lib\\site-packages\\tqdm\\auto.py:21: TqdmWarning: IProgress not found. Please update jupyter and ipywidgets. See https://ipywidgets.readthedocs.io/en/stable/user_install.html\n",
      "  from .autonotebook import tqdm as notebook_tqdm\n"
     ]
    },
    {
     "data": {
      "text/html": [
       "\n",
       "            <div>\n",
       "                <ins><a href=\"https://ydata.ai/register\">Upgrade to ydata-sdk</a></ins>\n",
       "                <p>\n",
       "                    Improve your data and profiling with ydata-sdk, featuring data quality scoring, redundancy detection, outlier identification, text validation, and synthetic data generation.\n",
       "                </p>\n",
       "            </div>\n",
       "            "
      ],
      "text/plain": [
       "<IPython.core.display.HTML object>"
      ]
     },
     "metadata": {},
     "output_type": "display_data"
    }
   ],
   "source": [
    "# import libraries\n",
    "import pandas as pd\n",
    "import seaborn as sns\n",
    "import ydata_profiling as yd"
   ]
  },
  {
   "cell_type": "code",
   "execution_count": 11,
   "id": "174c6d5f",
   "metadata": {},
   "outputs": [],
   "source": [
    "#import data from seaborm\n",
    "df = sns.load_dataset(\"titanic\")"
   ]
  },
  {
   "cell_type": "markdown",
   "id": "244f1558",
   "metadata": {},
   "source": [
    "# Do it on Titanic Dataset"
   ]
  },
  {
   "cell_type": "code",
   "execution_count": 12,
   "id": "077f0b3b",
   "metadata": {},
   "outputs": [
    {
     "name": "stderr",
     "output_type": "stream",
     "text": [
      "100%|██████████| 15/15 [00:00<00:00, 56.13it/s]1<00:00,  6.68it/s, Describe variable: alone]     \n",
      "Summarize dataset: 100%|██████████| 41/41 [00:22<00:00,  1.83it/s, Completed]                 \n",
      "Generate report structure: 100%|██████████| 1/1 [00:20<00:00, 20.15s/it]\n",
      "Render HTML: 100%|██████████| 1/1 [00:11<00:00, 11.27s/it]\n",
      "Export report to file: 100%|██████████| 1/1 [00:00<00:00, 11.61it/s]\n"
     ]
    }
   ],
   "source": [
    "#ydata profile report\n",
    "profile = yd.ProfileReport(df)\n",
    "profile.to_file(output_file= \"./outputs/ydata_titanic.html\")"
   ]
  },
  {
   "cell_type": "markdown",
   "id": "fd5cc4d1",
   "metadata": {},
   "source": [
    "# Do it on Pak population Dataset"
   ]
  },
  {
   "cell_type": "code",
   "execution_count": 3,
   "id": "528d1864",
   "metadata": {},
   "outputs": [],
   "source": [
    "df_pop = pd.read_csv(\"./Dataset/population.csv\")"
   ]
  },
  {
   "cell_type": "code",
   "execution_count": 14,
   "id": "614cd0ca",
   "metadata": {},
   "outputs": [
    {
     "name": "stderr",
     "output_type": "stream",
     "text": [
      "100%|██████████| 21/21 [00:00<00:00, 39.36it/s]1<00:00, 17.10it/s, Describe variable: ANNUAL GROWTH RATE (URBAN)]\n",
      "Summarize dataset: 100%|██████████| 319/319 [03:28<00:00,  1.53it/s, Completed]                                                     \n",
      "Generate report structure: 100%|██████████| 1/1 [00:35<00:00, 35.13s/it]\n",
      "Render HTML: 100%|██████████| 1/1 [00:58<00:00, 58.69s/it]\n",
      "Export report to file: 100%|██████████| 1/1 [00:00<00:00,  2.01it/s]\n"
     ]
    }
   ],
   "source": [
    "profile = yd.ProfileReport(df_pop)\n",
    "profile.to_file(output_file=\"./outputs/ydata_pak_population.html\")"
   ]
  },
  {
   "cell_type": "markdown",
   "id": "134eda23",
   "metadata": {},
   "source": [
    "# Do it on iris Dataset"
   ]
  },
  {
   "cell_type": "code",
   "execution_count": 4,
   "id": "b8034249",
   "metadata": {},
   "outputs": [],
   "source": [
    "df_iris= pd.read_csv(\"./Dataset/iris.csv\")"
   ]
  },
  {
   "cell_type": "code",
   "execution_count": 16,
   "id": "56c9075b",
   "metadata": {},
   "outputs": [
    {
     "name": "stderr",
     "output_type": "stream",
     "text": [
      "100%|██████████| 6/6 [00:00<00:00, 6003.30it/s]<00:00, 16.48it/s, Describe variable: Species]     \n",
      "Summarize dataset: 100%|██████████| 40/40 [00:19<00:00,  2.04it/s, Completed]                           \n",
      "Generate report structure: 100%|██████████| 1/1 [00:12<00:00, 12.47s/it]\n",
      "Render HTML: 100%|██████████| 1/1 [00:05<00:00,  5.27s/it]\n",
      "Export report to file: 100%|██████████| 1/1 [00:00<00:00, 21.86it/s]\n"
     ]
    }
   ],
   "source": [
    "profile = yd.ProfileReport(df_iris)\n",
    "profile.to_file(output_file=\"./outputs/ydata_irsi.html\")"
   ]
  }
 ],
 "metadata": {
  "kernelspec": {
   "display_name": "ydata_profiling",
   "language": "python",
   "name": "python3"
  },
  "language_info": {
   "codemirror_mode": {
    "name": "ipython",
    "version": 3
   },
   "file_extension": ".py",
   "mimetype": "text/x-python",
   "name": "python",
   "nbconvert_exporter": "python",
   "pygments_lexer": "ipython3",
   "version": "3.10.0"
  }
 },
 "nbformat": 4,
 "nbformat_minor": 5
}
